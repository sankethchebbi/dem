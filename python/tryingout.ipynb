{
 "cells": [
  {
   "cell_type": "code",
   "execution_count": 6,
   "id": "7ee227b6-d836-4bfe-a1de-01d5684a7788",
   "metadata": {},
   "outputs": [
    {
     "ename": "ImportError",
     "evalue": "cannot import name 'Model' from 'adapy' (/Users/sankethchebbi/.pyenv/versions/3.11.0/lib/python3.11/site-packages/adapy/__init__.py)",
     "output_type": "error",
     "traceback": [
      "\u001b[0;31m---------------------------------------------------------------------------\u001b[0m",
      "\u001b[0;31mImportError\u001b[0m                               Traceback (most recent call last)",
      "Cell \u001b[0;32mIn[6], line 1\u001b[0m\n\u001b[0;32m----> 1\u001b[0m \u001b[38;5;28;01mfrom\u001b[39;00m \u001b[38;5;21;01madapy\u001b[39;00m \u001b[38;5;28;01mimport\u001b[39;00m Model, Node, Element, Force, BoundaryCondition, Analysis\n\u001b[1;32m      3\u001b[0m \u001b[38;5;66;03m# Create a Model object\u001b[39;00m\n\u001b[1;32m      4\u001b[0m model \u001b[38;5;241m=\u001b[39m Model()\n",
      "\u001b[0;31mImportError\u001b[0m: cannot import name 'Model' from 'adapy' (/Users/sankethchebbi/.pyenv/versions/3.11.0/lib/python3.11/site-packages/adapy/__init__.py)"
     ]
    }
   ],
   "source": [
    "from adapy import Model, Node, Element, Force, BoundaryCondition, Analysis\n",
    "\n",
    "# Create a Model object\n",
    "model = Model()\n",
    "\n",
    "# Set material properties\n",
    "E = 210e9  # Young's modulus (Pa)\n",
    "A = 0.001  # Cross-sectional area (m^2)\n",
    "\n",
    "# Define point load magnitude\n",
    "F = 1000  # Example value (N)\n",
    "\n",
    "# Define truss geometry\n",
    "node1 = Node(1, 0, 0)\n",
    "node2 = Node(2, 1, 0)\n",
    "\n",
    "# Add nodes to model\n",
    "model.add_nodes(node1, node2)\n",
    "\n",
    "# Define element with material properties\n",
    "element = Element(1, [node1, node2], E, A)\n",
    "\n",
    "# Add element to model\n",
    "model.add_element(element)\n",
    "\n",
    "# Apply loads\n",
    "force = Force([node2], [F, 0])  # Point load at Node 2 (N)\n",
    "model.add_force(force)\n",
    "\n",
    "# Specify boundary conditions\n",
    "boundary_condition = BoundaryCondition(node1, [0, 0, 0])  # Fixed support at Node 1\n",
    "model.add_boundary_condition(boundary_condition)\n",
    "\n",
    "# Run analysis\n",
    "analysis = Analysis(model)\n",
    "analysis.run()\n",
    "\n",
    "# Get results (e.g., displacements, reactions, etc.)\n",
    "displacements = analysis.get_displacements()\n",
    "reactions = analysis.get_reactions()\n",
    "\n",
    "# Visualize results (optional)\n",
    "# You can use matplotlib or other plotting libraries to visualize results\n",
    "\n",
    "# Print results (for demonstration)\n",
    "print(\"Displacements:\", displacements)\n",
    "print(\"Reactions:\", reactions)\n"
   ]
  },
  {
   "cell_type": "code",
   "execution_count": null,
   "id": "584d6d5d-5c1c-4598-bf02-56e624bc5e4b",
   "metadata": {},
   "outputs": [],
   "source": []
  }
 ],
 "metadata": {
  "kernelspec": {
   "display_name": "Python 3 (ipykernel)",
   "language": "python",
   "name": "python3"
  },
  "language_info": {
   "codemirror_mode": {
    "name": "ipython",
    "version": 3
   },
   "file_extension": ".py",
   "mimetype": "text/x-python",
   "name": "python",
   "nbconvert_exporter": "python",
   "pygments_lexer": "ipython3",
   "version": "3.11.0"
  }
 },
 "nbformat": 4,
 "nbformat_minor": 5
}
